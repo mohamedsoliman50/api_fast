{
 "cells": [
  {
   "cell_type": "code",
   "execution_count": null,
   "id": "41941747",
   "metadata": {
    "ExecuteTime": {
     "start_time": "2024-03-04T03:24:14.403Z"
    }
   },
   "outputs": [
    {
     "name": "stderr",
     "output_type": "stream",
     "text": [
      "INFO:     Started server process [22832]\n",
      "INFO:     Waiting for application startup.\n",
      "INFO:     Application startup complete.\n",
      "INFO:     Uvicorn running on http://127.0.0.1:8000 (Press CTRL+C to quit)\n"
     ]
    },
    {
     "name": "stdout",
     "output_type": "stream",
     "text": [
      "INFO:     127.0.0.1:53078 - \"GET / HTTP/1.1\" 404 Not Found\n",
      "INFO:     127.0.0.1:53078 - \"GET / HTTP/1.1\" 404 Not Found\n",
      "INFO:     127.0.0.1:53079 - \"GET / HTTP/1.1\" 404 Not Found\n",
      "INFO:     127.0.0.1:53084 - \"GET /docs HTTP/1.1\" 200 OK\n",
      "INFO:     127.0.0.1:53084 - \"GET /openapi.json HTTP/1.1\" 200 OK\n",
      "INFO:     127.0.0.1:53085 - \"POST /master HTTP/1.1\" 200 OK\n",
      "INFO:     127.0.0.1:53089 - \"GET /master?limit=2 HTTP/1.1\" 200 OK\n"
     ]
    }
   ],
   "source": [
    "import logging\n",
    "import os\n",
    "\n",
    "from fastapi import FastAPI, Form\n",
    "from pydantic import BaseModel\n",
    "from typing import List\n",
    "import pandas as pd\n",
    "from sklearn.model_selection import train_test_split\n",
    "from sklearn.feature_extraction.text import TfidfVectorizer\n",
    "from sklearn.metrics.pairwise import linear_kernel\n",
    "import random\n",
    "\n",
    "master = {}\n",
    "\n",
    "class Db(BaseModel):\n",
    "    Country: str = Form(..., description=\"Country label\")\n",
    "    Governorate: str = Form(None, description=\"Governorate label\")\n",
    "    Survey: List[str] = Form([], description=\"Survey label\")\n",
    "    Total_Price: float = Form(None, description=\"Total Price label\")\n",
    "\n",
    "app = FastAPI()\n",
    "\n",
    "# Sample Data\n",
    "data_file_path = os.path.join(os.getcwd(), 'final_data.csv')\n",
    "selected_columns = ['Title', 'Tag', 'Review', 'Comment', 'Address', 'Country', 'Price', 'Rating', 'tags', 'Governorate']\n",
    "\n",
    "try:\n",
    "    df = pd.read_csv(data_file_path) \n",
    "    df = df[selected_columns].dropna()\n",
    "    df['Tag'] = df['Tag'].astype(str)\n",
    "    df['Review'] = df['Review'].astype(str)\n",
    "    df['Comment'] = df['Comment'].astype(str)\n",
    "except FileNotFoundError:\n",
    "    logging.error(f\"File not found: {data_file_path}\")\n",
    "    raise\n",
    "\n",
    "# Feature Engineering\n",
    "tfidf_vectorizer = TfidfVectorizer(stop_words='english')\n",
    "tfidf_matrix = tfidf_vectorizer.fit_transform(df['Tag'] + ' ' + df['Review'] + ' ' + df['Comment'])\n",
    "\n",
    "# Model Selection\n",
    "cosine_sim = linear_kernel(tfidf_matrix, tfidf_matrix)\n",
    "\n",
    "# Split the dataset\n",
    "train, test = train_test_split(df, test_size=0.2, random_state=42)\n",
    "\n",
    "def get_recommendations(country, governorate, survey_responses, df):\n",
    "    # Filter places that match the user's country and governorate\n",
    "    filtered_df = df[(df['Country'] == country) & (df['Governorate'] == governorate)]\n",
    "\n",
    "    # Check if there is data available\n",
    "    if filtered_df.empty:\n",
    "        logging.warning(\"No data found for the specified country and governorate.\")\n",
    "        return pd.DataFrame(columns=['Title', 'Price', 'tags', 'Governorate'])\n",
    "\n",
    "    # Ensure \"Restaurants\" and \"Hotels\" are always present in user profile\n",
    "    user_profile = f\"{country} {governorate} {' '.join(survey_responses)}\"\n",
    "\n",
    "    # Transform the user profile using the same TF-IDF vectorizer\n",
    "    user_profile_vectorized = tfidf_vectorizer.transform([user_profile])\n",
    "\n",
    "    # Transform places' descriptions (assuming 'tags' contains relevant information)\n",
    "    places_vectorized = tfidf_vectorizer.transform(filtered_df['tags'])\n",
    "\n",
    "    # Calculate cosine similarity between user profile and places\n",
    "    sim_scores = linear_kernel(user_profile_vectorized, places_vectorized).flatten()\n",
    "\n",
    "    # Create a DataFrame to store recommendations\n",
    "    recommendations_df = pd.DataFrame(columns=['Title', 'Price', 'tags', 'Governorate'])\n",
    "\n",
    "    # Check if there are places to recommend\n",
    "    if not any(response_indices for response in survey_responses for response_indices in [i for i, tag in enumerate(filtered_df['tags']) if response.lower() in tag.lower()]):\n",
    "        logging.warning(\"No suitable places found for the given survey responses.\")\n",
    "        return recommendations_df\n",
    "\n",
    "    # Iterate through each survey response and select a recommendation\n",
    "    for response in survey_responses:\n",
    "        # Get indices of places containing the current survey response\n",
    "        response_indices = [i for i, tag in enumerate(filtered_df['tags']) if response.lower() in tag.lower()]\n",
    "\n",
    "        # If there are places with the current tag, select a random one\n",
    "        if response_indices:\n",
    "            random_index = random.choice(response_indices)\n",
    "            recommendation = filtered_df.iloc[[random_index]][['Title', 'Price', 'tags', 'Governorate']]\n",
    "            recommendations_df = pd.concat([recommendations_df, recommendation])\n",
    "\n",
    "    # Add at least 3 random restaurant recommendations for each day\n",
    "    for _ in range(3):\n",
    "        restaurant_recommendation = filtered_df[filtered_df['tags'].str.lower().str.contains('restaurant')].sample(1)[['Title', 'Price', 'tags', 'Governorate']]\n",
    "        recommendations_df = pd.concat([recommendations_df, restaurant_recommendation])\n",
    "\n",
    "    # Add a hotel recommendation\n",
    "    hotel_recommendation = filtered_df[filtered_df['tags'].str.lower().str.contains('hotel')].sample(1)[['Title', 'Price', 'tags', 'Governorate']]\n",
    "    recommendations_df = pd.concat([recommendations_df, hotel_recommendation])\n",
    "\n",
    "    return recommendations_df\n",
    "\n",
    "@app.get(\"/master\")\n",
    "def get_db(limit: int = 2):\n",
    "    db_list = list(master.values())\n",
    "    return db_list[:limit]\n",
    "\n",
    "@app.post(\"/master\")\n",
    "def create_db(data: Db):\n",
    "    Country = data.Country\n",
    "    Governorate = data.Governorate\n",
    "    Survey = data.Survey\n",
    "\n",
    "    # Check if the country and governorate exist in the dataset\n",
    "    if (Country not in df['Country'].values) or (Governorate not in df['Governorate'].values):\n",
    "        return {\"message\": f\"Country or Governorate not found in the dataset.\"}\n",
    "\n",
    "    # Get recommendations based on user input\n",
    "    user_survey_responses = [] if Survey is None else (Survey if isinstance(Survey, list) else Survey.split(','))\n",
    "    recommendations = get_recommendations(Country, Governorate, user_survey_responses, df)\n",
    "\n",
    "    # Store the recommendations in the database\n",
    "    master[Country] = recommendations.to_dict(orient='records')\n",
    "\n",
    "    return {\"message\": f\"Successfully created Trip with recommendations for {Country}\"}\n",
    "\n",
    "import nest_asyncio\n",
    "import uvicorn\n",
    "\n",
    "nest_asyncio.apply()\n",
    "\n",
    "if __name__ == \"__main__\":\n",
    "    uvicorn.run(app, host=\"127.0.0.1\", port=8000, log_level=\"info\")"
   ]
  },
  {
   "cell_type": "code",
   "execution_count": 9,
   "id": "a8a8d2b3",
   "metadata": {
    "ExecuteTime": {
     "end_time": "2024-03-04T03:24:00.361099Z",
     "start_time": "2024-03-04T03:23:53.143314Z"
    }
   },
   "outputs": [
    {
     "name": "stdout",
     "output_type": "stream",
     "text": [
      "Requirement already satisfied: nest_asyncio in c:\\users\\hp\\anaconda3\\lib\\site-packages (1.5.5)\n"
     ]
    }
   ],
   "source": [
    "!pip install nest_asyncio"
   ]
  },
  {
   "cell_type": "code",
   "execution_count": null,
   "id": "12202b50",
   "metadata": {},
   "outputs": [],
   "source": []
  }
 ],
 "metadata": {
  "kernelspec": {
   "display_name": "Python 3 (ipykernel)",
   "language": "python",
   "name": "python3"
  },
  "language_info": {
   "codemirror_mode": {
    "name": "ipython",
    "version": 3
   },
   "file_extension": ".py",
   "mimetype": "text/x-python",
   "name": "python",
   "nbconvert_exporter": "python",
   "pygments_lexer": "ipython3",
   "version": "3.9.13"
  },
  "varInspector": {
   "cols": {
    "lenName": 16,
    "lenType": 16,
    "lenVar": 40
   },
   "kernels_config": {
    "python": {
     "delete_cmd_postfix": "",
     "delete_cmd_prefix": "del ",
     "library": "var_list.py",
     "varRefreshCmd": "print(var_dic_list())"
    },
    "r": {
     "delete_cmd_postfix": ") ",
     "delete_cmd_prefix": "rm(",
     "library": "var_list.r",
     "varRefreshCmd": "cat(var_dic_list()) "
    }
   },
   "types_to_exclude": [
    "module",
    "function",
    "builtin_function_or_method",
    "instance",
    "_Feature"
   ],
   "window_display": false
  }
 },
 "nbformat": 4,
 "nbformat_minor": 5
}
